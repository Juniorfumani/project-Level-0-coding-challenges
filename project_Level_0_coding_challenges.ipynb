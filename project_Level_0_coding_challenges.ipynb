{
 "cells": [
  {
   "cell_type": "markdown",
   "metadata": {},
   "source": [
    "# Task 0.1"
   ]
  },
  {
   "cell_type": "code",
   "execution_count": 1,
   "metadata": {},
   "outputs": [
    {
     "name": "stdout",
     "output_type": "stream",
     "text": [
      "the value of X is:  0\n",
      "the value of Y is:  1\n",
      "Now the value of X is:  3\n",
      "Now the value of Y is:  4\n"
     ]
    }
   ],
   "source": [
    "#converting pseudocode into actual code\n",
    "\n",
    "X = 0\n",
    "Y = 1\n",
    "\n",
    "print(\"the value of X is: \", X)\n",
    "print(\"the value of Y is: \", Y)\n",
    "\n",
    "X = X + 3\n",
    "Y = Y + X\n",
    "\n",
    "print(\"Now the value of X is: \" , X)\n",
    "print(\"Now the value of Y is: \" , Y)"
   ]
  },
  {
   "cell_type": "markdown",
   "metadata": {},
   "source": []
  },
  {
   "cell_type": "markdown",
   "metadata": {},
   "source": [
    "# Task 0.2"
   ]
  },
  {
   "cell_type": "code",
   "execution_count": 2,
   "metadata": {},
   "outputs": [
    {
     "name": "stdout",
     "output_type": "stream",
     "text": [
      "The value of x is : 3\n",
      "The value of y is : 4\n",
      "The value of z is : 3\n",
      "The value of a is : 2.0\n",
      "The value of b is : 1.5\n"
     ]
    }
   ],
   "source": [
    "#converting pseudocode into actual code \n",
    "\n",
    "x = 1 + 1 * 2\n",
    "y = (1 + 1) * 2\n",
    "z = 1 + ( 1 * 2 )\n",
    "a = 1 + 1 * 2 / 2\n",
    "b = (1 + 1 * 2 ) /  2\n",
    "\n",
    "print(\"The value of x is :\",x)\n",
    "print(\"The value of y is :\",y)\n",
    "print(\"The value of z is :\",z)\n",
    "print(\"The value of a is :\",a)\n",
    "print(\"The value of b is :\",b)"
   ]
  },
  {
   "cell_type": "markdown",
   "metadata": {},
   "source": [
    "# Task 0.3"
   ]
  },
  {
   "cell_type": "code",
   "execution_count": 3,
   "metadata": {},
   "outputs": [
    {
     "name": "stdout",
     "output_type": "stream",
     "text": [
      "hello Tshepo\n"
     ]
    }
   ],
   "source": [
    "#this function prints a name of a function and the arguments inside the  function\n",
    "\n",
    "def hello(fname):\n",
    "  print(hello.__name__ , fname )\n",
    "   \n",
    "hello(\"Tshepo\")"
   ]
  },
  {
   "cell_type": "markdown",
   "metadata": {},
   "source": [
    "# Task 0.4"
   ]
  },
  {
   "cell_type": "code",
   "execution_count": 4,
   "metadata": {},
   "outputs": [
    {
     "name": "stdout",
     "output_type": "stream",
     "text": [
      "4 is Even\n"
     ]
    }
   ],
   "source": [
    "#this function takes in an integer and print in the word “even” or “odd”\n",
    "\n",
    "choice_number = 4\n",
    "\n",
    "def even_or_odd(choice_number):\n",
    "        \n",
    "        if (choice_number % 2) == 0:\n",
    "            print(choice_number,\"is Even\")\n",
    "        else:\n",
    "            print(choice_number,\": is an Odd number\")\n",
    "        \n",
    "     \n",
    "even_or_odd(choice_number)"
   ]
  },
  {
   "cell_type": "markdown",
   "metadata": {},
   "source": [
    "# task 0.5"
   ]
  },
  {
   "cell_type": "code",
   "execution_count": 5,
   "metadata": {},
   "outputs": [
    {
     "data": {
      "text/plain": [
       "6.49519052838329"
      ]
     },
     "execution_count": 5,
     "metadata": {},
     "output_type": "execute_result"
    }
   ],
   "source": [
    "#this function takes in three numbers of the sides of a triangle and return the area of a triangle.\n",
    "\n",
    "def are_of_triangle(a,b,c):\n",
    "    \n",
    "    s = (a + b + c) / 2\n",
    "    area = (s*(s-a)*(s-b)*(s-c)) ** 0.5\n",
    "    return area\n",
    "    print('the area is :',area)\n",
    "    \n",
    "a = 5\n",
    "b = 3\n",
    "c = 7\n",
    "\n",
    "are_of_triangle(a,b,c)"
   ]
  },
  {
   "cell_type": "markdown",
   "metadata": {},
   "source": [
    "# task 0.6"
   ]
  },
  {
   "cell_type": "code",
   "execution_count": 6,
   "metadata": {},
   "outputs": [
    {
     "name": "stdout",
     "output_type": "stream",
     "text": [
      "79  is the largest\n"
     ]
    }
   ],
   "source": [
    "#this function takes in three numbers and returns the maximum number.\n",
    "\n",
    "\n",
    "def large_number(num1,num2,num3,):\n",
    "\n",
    "    if (num1 > num2):\n",
    "        if(num1 > num3):\n",
    "            print(num1,\" is thhe largest\")\n",
    "        else:\n",
    "            print(num3,\" is the largest\")\n",
    "    elif(num2 > num3):\n",
    "        print(num2,\" is the largest\")\n",
    "    else :\n",
    "        print(num3,\" is the largest\")\n",
    "        \n",
    "        \n",
    "num1 = 25\n",
    "num2 = 79\n",
    "num3 = 11\n",
    "\n",
    "#call the function    \n",
    "large_number(num1,num2,num3)"
   ]
  },
  {
   "cell_type": "markdown",
   "metadata": {},
   "source": [
    "# task 0.7"
   ]
  },
  {
   "cell_type": "code",
   "execution_count": 7,
   "metadata": {},
   "outputs": [
    {
     "name": "stdout",
     "output_type": "stream",
     "text": [
      "temperature in fahrenheit is : 68.0 f\n"
     ]
    }
   ],
   "source": [
    "#this function that takes in a number representing the temperature in Celsius and returns\n",
    "#  the temperature in Fahrenheit\n",
    "\n",
    "\n",
    "def celsius_to_fahrenheit(c):\n",
    "    \n",
    "    f = (c * 1.8) + 32\n",
    "    print(\"temperature in fahrenheit is :\",f,\"f\")\n",
    "    \n",
    "c = 20    \n",
    "celsius_to_fahrenheit(c)\n"
   ]
  },
  {
   "cell_type": "code",
   "execution_count": 8,
   "metadata": {},
   "outputs": [
    {
     "name": "stdout",
     "output_type": "stream",
     "text": [
      "temperature in degree celsius is : 20.555555555555554 c\n"
     ]
    }
   ],
   "source": [
    "#this function that takes in a number representing the Fahrenheit  and returns the temperature\n",
    "#  in Celsius\n",
    "\n",
    "def fahrenheit_to_celsius(num):\n",
    "    \n",
    "    c =(num - 32 ) / 1.8\n",
    "    print(\"temperature in degree celsius is :\",c,\"c\")\n",
    "    \n",
    "temp_in_fahrenheit = 69    \n",
    "fahrenheit_to_celsius(temp_in_fahrenheit)"
   ]
  },
  {
   "cell_type": "markdown",
   "metadata": {},
   "source": [
    "# Task 0.8"
   ]
  },
  {
   "cell_type": "code",
   "execution_count": 9,
   "metadata": {},
   "outputs": [
    {
     "name": "stdout",
     "output_type": "stream",
     "text": [
      "2 hour 13 minutes\n"
     ]
    }
   ],
   "source": [
    "#this function convert any number into hours and minutes\n",
    "\n",
    "def minutes_into_hours(minutes):\n",
    "    \n",
    "    minutes = minutes % (24 * 3600)\n",
    "    hour = minutes // 3600\n",
    "    minutes %= 3600\n",
    "    hours = minutes // 60\n",
    "    minutes %= 60\n",
    "    \n",
    "    print(hours,\"hour\" , minutes, \"minutes\")\n",
    "    \n",
    "minutes  = 133\n",
    "minutes_into_hours(minutes)"
   ]
  },
  {
   "cell_type": "markdown",
   "metadata": {},
   "source": [
    "# Task 0.9"
   ]
  },
  {
   "cell_type": "code",
   "execution_count": null,
   "metadata": {},
   "outputs": [],
   "source": [
    "#This function takes in a string and then prints out all the vowels in the string\n",
    "\n",
    "def printVowels(string):\n",
    "    # to print the vowels\n",
    "    \n",
    "    if 'a' in user:\n",
    "        print('a',end=',')\n",
    "    if 'e' in user:\n",
    "        print('e',end=',')\n",
    "    if 'i' in user:\n",
    "        print('i',end=',')\n",
    "    if 'o' in user:\n",
    "        print('o',end=',')\n",
    "    if 'u' in user:\n",
    "        print('u',end=',')\n",
    "   \n",
    "    \n",
    "\n",
    "## input\n",
    "user = 'umuzi'\n",
    "\n",
    "# calling function\n",
    "printVowels(user)"
   ]
  },
  {
   "cell_type": "markdown",
   "metadata": {},
   "source": [
    "# Task 0.10"
   ]
  },
  {
   "cell_type": "code",
   "execution_count": null,
   "metadata": {},
   "outputs": [],
   "source": [
    "#this function takes two strings as input and outputs the common characters/letters\n",
    "\n",
    "\n",
    "def common_characters(f_name,s_name):\n",
    "\n",
    "        common_letter=list(set(first_name)&set(second_name))\n",
    "        print(\"The common letters are in string 1 and string 2 are :\")\n",
    "        for i in common_letter:\n",
    "            print(i,end=\",\")\n",
    "    \n",
    "    \n",
    "first_name= 'house’'\n",
    "second_name= 'computers'    \n",
    "\n",
    "common_characters(first_name,second_name)"
   ]
  },
  {
   "cell_type": "code",
   "execution_count": null,
   "metadata": {},
   "outputs": [],
   "source": []
  },
  {
   "cell_type": "code",
   "execution_count": null,
   "metadata": {},
   "outputs": [],
   "source": []
  },
  {
   "cell_type": "code",
   "execution_count": null,
   "metadata": {},
   "outputs": [],
   "source": []
  },
  {
   "cell_type": "code",
   "execution_count": null,
   "metadata": {},
   "outputs": [],
   "source": []
  },
  {
   "cell_type": "code",
   "execution_count": null,
   "metadata": {},
   "outputs": [],
   "source": []
  },
  {
   "cell_type": "code",
   "execution_count": null,
   "metadata": {},
   "outputs": [],
   "source": []
  }
 ],
 "metadata": {
  "interpreter": {
   "hash": "cc7cdf914f10b95188a6e80623e674847de9c667a3a7f782717666a4b294a86e"
  },
  "kernelspec": {
   "display_name": "Python 3",
   "language": "python",
   "name": "python3"
  },
  "language_info": {
   "codemirror_mode": {
    "name": "ipython",
    "version": 3
   },
   "file_extension": ".py",
   "mimetype": "text/x-python",
   "name": "python",
   "nbconvert_exporter": "python",
   "pygments_lexer": "ipython3",
   "version": "3.8.8"
  }
 },
 "nbformat": 4,
 "nbformat_minor": 2
}
